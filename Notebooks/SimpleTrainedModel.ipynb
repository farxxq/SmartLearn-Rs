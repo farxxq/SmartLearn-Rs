{
 "cells": [
  {
   "cell_type": "markdown",
   "metadata": {},
   "source": [
    "Convert Categorical Data to Numerical\n"
   ]
  },
  {
   "cell_type": "markdown",
   "metadata": {
    "notebookRunGroups": {
     "groupValue": "1"
    }
   },
   "source": [
    "1.Load the Dataset\n",
    "\n",
    "\n",
    "\n"
   ]
  },
  {
   "cell_type": "code",
   "execution_count": 42,
   "metadata": {},
   "outputs": [
    {
     "data": {
      "text/html": [
       "<div>\n",
       "<style scoped>\n",
       "    .dataframe tbody tr th:only-of-type {\n",
       "        vertical-align: middle;\n",
       "    }\n",
       "\n",
       "    .dataframe tbody tr th {\n",
       "        vertical-align: top;\n",
       "    }\n",
       "\n",
       "    .dataframe thead th {\n",
       "        text-align: right;\n",
       "    }\n",
       "</style>\n",
       "<table border=\"1\" class=\"dataframe\">\n",
       "  <thead>\n",
       "    <tr style=\"text-align: right;\">\n",
       "      <th></th>\n",
       "      <th>student_id</th>\n",
       "      <th>student_name</th>\n",
       "      <th>age</th>\n",
       "      <th>email</th>\n",
       "      <th>gpa</th>\n",
       "      <th>Difficulty_level</th>\n",
       "      <th>recommended_courses</th>\n",
       "      <th>College_Name</th>\n",
       "      <th>Course_Subject</th>\n",
       "    </tr>\n",
       "  </thead>\n",
       "  <tbody>\n",
       "    <tr>\n",
       "      <th>0</th>\n",
       "      <td>1</td>\n",
       "      <td>Gillie Axtens</td>\n",
       "      <td>20</td>\n",
       "      <td>gaxtens0@slate.com</td>\n",
       "      <td>4.2</td>\n",
       "      <td>Intermediate</td>\n",
       "      <td>Front end Development</td>\n",
       "      <td>CIT</td>\n",
       "      <td>Data Science</td>\n",
       "    </tr>\n",
       "    <tr>\n",
       "      <th>1</th>\n",
       "      <td>2</td>\n",
       "      <td>Adrea Witherby</td>\n",
       "      <td>19</td>\n",
       "      <td>awitherby1@businessweek.com</td>\n",
       "      <td>7.7</td>\n",
       "      <td>Intermediate</td>\n",
       "      <td>Front end Development</td>\n",
       "      <td>Meenakshi</td>\n",
       "      <td>Data Science</td>\n",
       "    </tr>\n",
       "    <tr>\n",
       "      <th>2</th>\n",
       "      <td>3</td>\n",
       "      <td>Arleen Bellhanger</td>\n",
       "      <td>19</td>\n",
       "      <td>abellhanger2@accuweather.com</td>\n",
       "      <td>10.0</td>\n",
       "      <td>Intermediate</td>\n",
       "      <td>NaN</td>\n",
       "      <td>SRM</td>\n",
       "      <td>Cloud Computing</td>\n",
       "    </tr>\n",
       "    <tr>\n",
       "      <th>3</th>\n",
       "      <td>4</td>\n",
       "      <td>Annetta Stanyland</td>\n",
       "      <td>20</td>\n",
       "      <td>astanyland3@shop-pro.jp</td>\n",
       "      <td>8.5</td>\n",
       "      <td>Beginner</td>\n",
       "      <td>SQL</td>\n",
       "      <td>SIET</td>\n",
       "      <td>Data Science</td>\n",
       "    </tr>\n",
       "    <tr>\n",
       "      <th>4</th>\n",
       "      <td>5</td>\n",
       "      <td>Ferrel Atack</td>\n",
       "      <td>19</td>\n",
       "      <td>fatack4@newyorker.com</td>\n",
       "      <td>4.5</td>\n",
       "      <td>Beginner</td>\n",
       "      <td>Big Data Analytics</td>\n",
       "      <td>Crescent</td>\n",
       "      <td>Data Science</td>\n",
       "    </tr>\n",
       "  </tbody>\n",
       "</table>\n",
       "</div>"
      ],
      "text/plain": [
       "   student_id       student_name  age                         email   gpa  \\\n",
       "0           1      Gillie Axtens   20            gaxtens0@slate.com   4.2   \n",
       "1           2     Adrea Witherby   19   awitherby1@businessweek.com   7.7   \n",
       "2           3  Arleen Bellhanger   19  abellhanger2@accuweather.com  10.0   \n",
       "3           4  Annetta Stanyland   20       astanyland3@shop-pro.jp   8.5   \n",
       "4           5       Ferrel Atack   19         fatack4@newyorker.com   4.5   \n",
       "\n",
       "  Difficulty_level    recommended_courses College_Name   Course_Subject  \n",
       "0     Intermediate  Front end Development          CIT     Data Science  \n",
       "1     Intermediate  Front end Development    Meenakshi     Data Science  \n",
       "2     Intermediate                    NaN          SRM  Cloud Computing  \n",
       "3         Beginner                    SQL         SIET     Data Science  \n",
       "4         Beginner     Big Data Analytics     Crescent     Data Science  "
      ]
     },
     "execution_count": 42,
     "metadata": {},
     "output_type": "execute_result"
    }
   ],
   "source": [
    "import pandas as pd  \n",
    "\n",
    "\n",
    "# Load dataset\n",
    "df = pd.read_csv(\"C:/Users/Muqeem/OneDrive/Desktop/Final_Year_project/Data/MOCK_DATA_ORIGINAL.csv\")\n",
    "\n",
    "# Display first few rows\n",
    "df.head()\n"
   ]
  },
  {
   "cell_type": "markdown",
   "metadata": {},
   "source": [
    "2.Handle Missing Values"
   ]
  },
  {
   "cell_type": "code",
   "execution_count": 43,
   "metadata": {},
   "outputs": [
    {
     "name": "stdout",
     "output_type": "stream",
     "text": [
      "student_id               0\n",
      "student_name             0\n",
      "age                      0\n",
      "email                    0\n",
      "gpa                      0\n",
      "Difficulty_level         0\n",
      "recommended_courses    126\n",
      "College_Name             0\n",
      "Course_Subject           0\n",
      "dtype: int64\n"
     ]
    },
    {
     "name": "stderr",
     "output_type": "stream",
     "text": [
      "C:\\Users\\Muqeem\\AppData\\Local\\Temp\\ipykernel_8240\\349156531.py:5: FutureWarning: A value is trying to be set on a copy of a DataFrame or Series through chained assignment using an inplace method.\n",
      "The behavior will change in pandas 3.0. This inplace method will never work because the intermediate object on which we are setting values always behaves as a copy.\n",
      "\n",
      "For example, when doing 'df[col].method(value, inplace=True)', try using 'df.method({col: value}, inplace=True)' or df[col] = df[col].method(value) instead, to perform the operation inplace on the original object.\n",
      "\n",
      "\n",
      "  df['gpa'].fillna(df['gpa'].mean(), inplace=True)\n"
     ]
    }
   ],
   "source": [
    "# Check missing values\n",
    "print(df.isnull().sum())\n",
    "\n",
    "# Fill missing GPAs with the mean\n",
    "df['gpa'].fillna(df['gpa'].mean(), inplace=True)\n",
    "\n",
    "# Drop rows where essential data is missing\n",
    "df.dropna(subset=['recommended_courses'], inplace=True)\n"
   ]
  },
  {
   "cell_type": "markdown",
   "metadata": {},
   "source": [
    "3.Handle Duplicates"
   ]
  },
  {
   "cell_type": "code",
   "execution_count": 44,
   "metadata": {},
   "outputs": [],
   "source": [
    "# Remove duplicate rows\n",
    "df.drop_duplicates(inplace=True)\n"
   ]
  },
  {
   "cell_type": "markdown",
   "metadata": {},
   "source": [
    " Convert Categorical Data to Numerical\n",
    "📌 Goal: Convert non-numeric data for ML models.\n",
    "\n",
    "Label Encoding for categorical values (if ordinal).\n",
    "One-Hot Encoding for non-ordinal categorical values."
   ]
  },
  {
   "cell_type": "code",
   "execution_count": 45,
   "metadata": {},
   "outputs": [],
   "source": [
    "from sklearn.preprocessing import LabelEncoder\n",
    "\n",
    "# Encode Difficulty Level (e.g., Easy → 0, Medium → 1, Hard → 2)\n",
    "encoder = LabelEncoder()\n",
    "df['Difficulty_level'] = encoder.fit_transform(df['Difficulty_level'])\n",
    "\n",
    "# One-Hot Encoding for College Names\n",
    "df = pd.get_dummies(df, columns=['College_Name'])\n"
   ]
  },
  {
   "cell_type": "markdown",
   "metadata": {},
   "source": [
    " Normalize Numerical Features\n",
    "📌 Goal: Scale numerical values for better model performance.\n",
    "\n",
    "Use MinMaxScaler (for values between 0-1) or StandardScaler (for normally distributed data)."
   ]
  },
  {
   "cell_type": "code",
   "execution_count": 46,
   "metadata": {},
   "outputs": [],
   "source": [
    "from sklearn.preprocessing import MinMaxScaler\n",
    "\n",
    "scaler = MinMaxScaler()\n",
    "df[['gpa', 'age']] = scaler.fit_transform(df[['gpa', 'age']])\n"
   ]
  },
  {
   "cell_type": "markdown",
   "metadata": {},
   "source": [
    " Feature Engineering (Optional but Recommended)\n",
    "📌 Goal: Create new meaningful features.\n",
    "\n",
    "Engagement Score → Based on time spent on different topics.\n",
    "Course Popularity Score → Count how often a course is recommended."
   ]
  },
  {
   "cell_type": "code",
   "execution_count": 47,
   "metadata": {},
   "outputs": [],
   "source": [
    "# Example: Add a Course Popularity Score\n",
    "df['course_popularity'] = df.groupby('recommended_courses')['recommended_courses'].transform('count')\n"
   ]
  },
  {
   "cell_type": "markdown",
   "metadata": {},
   "source": [
    "Save the Cleaned Dataset"
   ]
  },
  {
   "cell_type": "code",
   "execution_count": 48,
   "metadata": {},
   "outputs": [],
   "source": [
    "df.to_csv(\"C:/Users/Muqeem/OneDrive/Desktop/Final_Year_project/Data/MOCK_DATA.csv\", index=False)\n"
   ]
  },
  {
   "cell_type": "markdown",
   "metadata": {},
   "source": [
    " Identify Top-Tier Courses Based on Interests\n",
    "Here’s how we can filter the best courses:"
   ]
  },
  {
   "cell_type": "code",
   "execution_count": 49,
   "metadata": {},
   "outputs": [],
   "source": [
    "# def recommend_top_courses(student_id, df, top_n=5):\n",
    "#     \"\"\" Recommend top-tier courses based on student interest. \"\"\"\n",
    "    \n",
    "#     # Get the student's details\n",
    "#     student = df[df['student_id'] == student_id]\n",
    "    \n",
    "#     if student.empty:\n",
    "#         return \"Student ID not found\"\n",
    "    \n",
    "#     # Extract the student's Course_Subject interest & Difficulty Level\n",
    "#     interest = student['Course_Subject'].values[0]\n",
    "#     difficulty = student['Difficulty_level'].values[0]\n",
    "    \n",
    "#     # Filter top courses matching the same subject & difficulty\n",
    "#     recommended_courses = df[\n",
    "#         (df['Course_Subject'] == interest) & \n",
    "#         (df['Difficulty_level'] <= difficulty)  # Consider slightly easier courses too\n",
    "#     ]\n",
    "    \n",
    "#     # Sort by highest GPA students taking the course (proxy for top-tier)\n",
    "#     recommended_courses = recommended_courses.sort_values(by='gpa', ascending=False)\n",
    "    \n",
    "#     return recommended_courses[['recommended_courses', 'College_Name']].head(top_n)\n",
    "\n",
    "# # Example Usage\n",
    "# student_id = 102  # Change this to a real student ID\n",
    "# top_courses = recommend_top_courses(student_id, df)\n",
    "# print(top_courses)\n",
    "\n",
    "\n",
    "\n",
    "\n",
    "# def recommend_top_courses(student_id, df, top_n=5):\n",
    "#     \"\"\" Recommend top-tier courses based on student interest. \"\"\"\n",
    "    \n",
    "#     # Get the student's details\n",
    "#     student = df[df['student_id'] == student_id]\n",
    "    \n",
    "#     if student.empty:\n",
    "#         return \"Student ID not found\"\n",
    "    \n",
    "#     # Extract the student's Course_Subject interest & Difficulty Level\n",
    "#     interest = student['Course_Subject'].values[0]\n",
    "#     difficulty = student['Difficulty_level'].values[0]\n",
    "    \n",
    "#     # Filter top courses matching the same subject & difficulty\n",
    "#     recommended_courses = df[\n",
    "#         (df['Course_Subject'] == interest) & \n",
    "#         (df['Difficulty_level'] <= difficulty)  \n",
    "#     ]\n",
    "    \n",
    "#     # Check if results exist before proceeding\n",
    "#     if recommended_courses.empty:\n",
    "#         return \"No matching courses found for this student.\"\n",
    "\n",
    "#     # Sort by highest GPA students taking the course\n",
    "#     recommended_courses = recommended_courses.sort_values(by='gpa', ascending=False)\n",
    "\n",
    "#     # Ensure column exists before selection\n",
    "#     available_columns = set(recommended_courses.columns)\n",
    "#     required_columns = {'recommended_courses', 'College_Name'}\n",
    "    \n",
    "#     if not required_columns.issubset(available_columns):\n",
    "#         return \"Missing required columns in filtered data.\"\n",
    "\n",
    "#     return recommended_courses[['recommended_courses', 'College_Name']].head(top_n)\n"
   ]
  },
  {
   "cell_type": "code",
   "execution_count": 54,
   "metadata": {},
   "outputs": [
    {
     "name": "stdout",
     "output_type": "stream",
     "text": [
      "Missing required columns in filtered data.\n"
     ]
    }
   ],
   "source": [
    "def recommend_top_courses(student_id, df, top_n=5):\n",
    "    \"\"\" Recommend top-tier courses based on student interest. \"\"\"\n",
    "    \n",
    "    # Get the student's details\n",
    "    student = df[df['student_id'] == student_id]\n",
    "    \n",
    "    if student.empty:\n",
    "        return \"Student ID not found\"\n",
    "    \n",
    "    # Extract the student's Course_Subject interest & Difficulty Level\n",
    "    interest = student['Course_Subject'].values[0]\n",
    "    difficulty = student['Difficulty_level'].values[0]\n",
    "    \n",
    "    # Filter top courses matching the same subject & difficulty\n",
    "    recommended_courses = df[\n",
    "        (df['Course_Subject'] == interest) & \n",
    "        (df['Difficulty_level'] <= difficulty)  \n",
    "    ]\n",
    "    \n",
    "    # Check if results exist before proceeding\n",
    "    if recommended_courses.empty:\n",
    "        return f\"No matching courses found for student with ID {student_id}.\"\n",
    "\n",
    "    # Sort by highest GPA students taking the course\n",
    "    recommended_courses = recommended_courses.sort_values(by='gpa', ascending=False)\n",
    "    \n",
    "    # Ensure necessary columns exist before proceeding\n",
    "    if 'recommended_courses' not in recommended_courses.columns or 'College_Name' not in recommended_courses.columns:\n",
    "        return \"Missing required columns in filtered data.\"\n",
    "\n",
    "    # Return top N recommended courses\n",
    "    return recommended_courses[['recommended_courses', 'College_Name']].head(top_n)\n",
    "\n",
    "# Example Usage\n",
    "student_id = 1  # Use a real student ID\n",
    "top_courses = recommend_top_courses(student_id, df)\n",
    "print(top_courses)\n"
   ]
  },
  {
   "cell_type": "code",
   "execution_count": 55,
   "metadata": {},
   "outputs": [
    {
     "name": "stdout",
     "output_type": "stream",
     "text": [
      "recommended_courses\n",
      "Big Data Analytics       138\n",
      "AWS                      136\n",
      "SQL                      130\n",
      "Front end Development    126\n",
      "Machine Learning         126\n",
      "Name: count, dtype: int64\n"
     ]
    }
   ],
   "source": [
    "import pandas as pd\n",
    "\n",
    "# Assuming df is your DataFrame containing the data\n",
    "\n",
    "# Count the number of occurrences of each course\n",
    "course_counts = df['recommended_courses'].value_counts()\n",
    "\n",
    "# Get the top 5 most popular courses\n",
    "top_5_courses = course_counts.head(5)\n",
    "\n",
    "# Display the top 5 popular courses and their count\n",
    "print(top_5_courses)\n"
   ]
  },
  {
   "cell_type": "code",
   "execution_count": null,
   "metadata": {},
   "outputs": [],
   "source": []
  }
 ],
 "metadata": {
  "kernelspec": {
   "display_name": "Python 3",
   "language": "python",
   "name": "python3"
  },
  "language_info": {
   "codemirror_mode": {
    "name": "ipython",
    "version": 3
   },
   "file_extension": ".py",
   "mimetype": "text/x-python",
   "name": "python",
   "nbconvert_exporter": "python",
   "pygments_lexer": "ipython3",
   "version": "3.12.6"
  }
 },
 "nbformat": 4,
 "nbformat_minor": 2
}
