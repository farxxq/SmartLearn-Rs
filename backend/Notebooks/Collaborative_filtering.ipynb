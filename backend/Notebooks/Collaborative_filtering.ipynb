{
 "cells": [
  {
   "cell_type": "markdown",
   "metadata": {},
   "source": [
    "Collaborative filtering is a popular technique for recommendation systems. It works by making predictions based on the preferences and behaviors of other users (students in this case) who have similar interests.\n",
    "\n",
    "a. User-Based Collaborative Filtering\n",
    "Idea: Find users who are similar to the target student based on their course preferences, and recommend courses that those similar users liked.\n",
    "Steps:\n",
    "Calculate the similarity between users (e.g., using cosine similarity or Pearson correlation).\n",
    "Identify the top N similar users to the target student.\n",
    "Recommend courses that those similar users have liked or taken.\n"
   ]
  },
  {
   "cell_type": "code",
   "execution_count": 1,
   "metadata": {},
   "outputs": [],
   "source": [
    "# # Import necessary libraries\n",
    "# import pandas as pd\n",
    "# from sklearn.model_selection import train_test_split\n",
    "# from sklearn.neighbors import NearestNeighbors\n",
    "\n",
    "# # Load the cleaned dataset\n",
    "# df = pd.read_csv('C:/Users/Muqeem/OneDrive/Desktop/Final_Year_project/Data/MOCK_DATA_ORIGINAL.csv')\n",
    "\n",
    "# # Collaborative Filtering: User-Item Interaction Matrix\n",
    "# # For simplicity, let's assume 'student_id' and 'recommended_courses' are relevant columns\n",
    "# user_item_matrix = df.pivot_table(index='student_id', columns='recommended_courses', values='gpa', aggfunc='mean')\n",
    "\n",
    "# # Fill missing values with 0 (indicating no interaction)\n",
    "# user_item_matrix.fillna(0, inplace=True)\n",
    "\n",
    "# # Split data into training and testing sets\n",
    "# train, test = train_test_split(user_item_matrix, test_size=0.2, random_state=42)\n",
    "\n",
    "# # Build Collaborative Filtering Model (using Nearest Neighbors)\n",
    "# model = NearestNeighbors(metric='cosine', algorithm='brute', n_neighbors=5, n_jobs=-1)\n",
    "# model.fit(train)\n",
    "\n",
    "# # # Get recommendations for a specific student (e.g., student_id = 102)\n",
    "# # student_id = 102\n",
    "# # distances, indices = model.kneighbors([train.loc[student_id]], n_neighbors=5)\n",
    "\n",
    "# # # Display the top 5 recommended courses\n",
    "# # recommended_courses = train.iloc[indices[0]]\n",
    "# # recommended_courses\n",
    "# # Get recommendations for a specific student (e.g., student_id = 102)\n",
    "# student_id = 102\n",
    "# distances, indices = model.kneighbors([train.loc[student_id]], n_neighbors=5)\n",
    "\n",
    "# # Get the top 5 recommended courses\n",
    "# recommended_course_indices = indices[0]\n",
    "# recommended_courses = user_item_matrix.columns[recommended_course_indices]\n",
    "# recommended_courses\n",
    "\n"
   ]
  },
  {
   "cell_type": "code",
   "execution_count": 2,
   "metadata": {},
   "outputs": [
    {
     "name": "stderr",
     "output_type": "stream",
     "text": [
      "C:\\Users\\Muqeem\\AppData\\Roaming\\Python\\Python312\\site-packages\\sklearn\\utils\\validation.py:2739: UserWarning: X does not have valid feature names, but NearestNeighbors was fitted with feature names\n",
      "  warnings.warn(\n"
     ]
    },
    {
     "ename": "IndexError",
     "evalue": "index 688 is out of bounds for axis 0 with size 7",
     "output_type": "error",
     "traceback": [
      "\u001b[1;31m---------------------------------------------------------------------------\u001b[0m",
      "\u001b[1;31mIndexError\u001b[0m                                Traceback (most recent call last)",
      "Cell \u001b[1;32mIn[2], line 34\u001b[0m\n\u001b[0;32m     32\u001b[0m \u001b[38;5;66;03m# Get the top 5 recommended courses\u001b[39;00m\n\u001b[0;32m     33\u001b[0m recommended_course_indices \u001b[38;5;241m=\u001b[39m indices[\u001b[38;5;241m0\u001b[39m]\n\u001b[1;32m---> 34\u001b[0m recommended_courses \u001b[38;5;241m=\u001b[39m \u001b[43muser_item_matrix\u001b[49m\u001b[38;5;241;43m.\u001b[39;49m\u001b[43mcolumns\u001b[49m\u001b[43m[\u001b[49m\u001b[43mrecommended_course_indices\u001b[49m\u001b[43m]\u001b[49m\n\u001b[0;32m     36\u001b[0m \u001b[38;5;66;03m# Display the recommended courses\u001b[39;00m\n\u001b[0;32m     37\u001b[0m \u001b[38;5;28mprint\u001b[39m(\u001b[38;5;124m\"\u001b[39m\u001b[38;5;124mTop 5 Recommended Courses for Student ID\u001b[39m\u001b[38;5;124m\"\u001b[39m, student_id, \u001b[38;5;124m\"\u001b[39m\u001b[38;5;124m:\u001b[39m\u001b[38;5;124m\"\u001b[39m, recommended_courses)\n",
      "File \u001b[1;32m~\\AppData\\Roaming\\Python\\Python312\\site-packages\\pandas\\core\\indexes\\base.py:5416\u001b[0m, in \u001b[0;36mIndex.__getitem__\u001b[1;34m(self, key)\u001b[0m\n\u001b[0;32m   5407\u001b[0m         \u001b[38;5;28;01mif\u001b[39;00m \u001b[38;5;28mlen\u001b[39m(key) \u001b[38;5;241m==\u001b[39m \u001b[38;5;241m0\u001b[39m \u001b[38;5;129;01mand\u001b[39;00m \u001b[38;5;28mlen\u001b[39m(key) \u001b[38;5;241m!=\u001b[39m \u001b[38;5;28mlen\u001b[39m(\u001b[38;5;28mself\u001b[39m):\n\u001b[0;32m   5408\u001b[0m             warnings\u001b[38;5;241m.\u001b[39mwarn(\n\u001b[0;32m   5409\u001b[0m                 \u001b[38;5;124m\"\u001b[39m\u001b[38;5;124mUsing a boolean indexer with length 0 on an Index with \u001b[39m\u001b[38;5;124m\"\u001b[39m\n\u001b[0;32m   5410\u001b[0m                 \u001b[38;5;124m\"\u001b[39m\u001b[38;5;124mlength greater than 0 is deprecated and will raise in a \u001b[39m\u001b[38;5;124m\"\u001b[39m\n\u001b[1;32m   (...)\u001b[0m\n\u001b[0;32m   5413\u001b[0m                 stacklevel\u001b[38;5;241m=\u001b[39mfind_stack_level(),\n\u001b[0;32m   5414\u001b[0m             )\n\u001b[1;32m-> 5416\u001b[0m result \u001b[38;5;241m=\u001b[39m \u001b[43mgetitem\u001b[49m\u001b[43m(\u001b[49m\u001b[43mkey\u001b[49m\u001b[43m)\u001b[49m\n\u001b[0;32m   5417\u001b[0m \u001b[38;5;66;03m# Because we ruled out integer above, we always get an arraylike here\u001b[39;00m\n\u001b[0;32m   5418\u001b[0m \u001b[38;5;28;01mif\u001b[39;00m result\u001b[38;5;241m.\u001b[39mndim \u001b[38;5;241m>\u001b[39m \u001b[38;5;241m1\u001b[39m:\n",
      "\u001b[1;31mIndexError\u001b[0m: index 688 is out of bounds for axis 0 with size 7"
     ]
    }
   ],
   "source": [
    "# Import necessary libraries\n",
    "import pandas as pd\n",
    "from sklearn.model_selection import train_test_split\n",
    "from sklearn.neighbors import NearestNeighbors\n",
    "\n",
    "# Load the cleaned dataset\n",
    "df = pd.read_csv('C:/Users/Muqeem/OneDrive/Desktop/Final_Year_project/Data/MOCK_DATA_ORIGINAL.csv')\n",
    "\n",
    "# Collaborative Filtering: User-Item Interaction Matrix\n",
    "# For simplicity, let's assume 'student_id' and 'recommended_courses' are relevant columns\n",
    "user_item_matrix = df.pivot_table(index='student_id', columns='recommended_courses', values='gpa', aggfunc='mean')\n",
    "\n",
    "# Fill missing values with 0 (indicating no interaction)\n",
    "user_item_matrix.fillna(0, inplace=True)\n",
    "\n",
    "# Split data into training and testing sets\n",
    "train, test = train_test_split(user_item_matrix, test_size=0.2, random_state=42)\n",
    "\n",
    "# Build Collaborative Filtering Model (using Nearest Neighbors)\n",
    "model = NearestNeighbors(metric='cosine', algorithm='brute', n_neighbors=5, n_jobs=-1)\n",
    "model.fit(train)\n",
    "\n",
    "# Get recommendations for a specific student (e.g., student_id = 102)\n",
    "student_id = 102\n",
    "\n",
    "# Locate the correct row from the original user_item_matrix\n",
    "student_row = user_item_matrix.loc[student_id].values.reshape(1, -1)  # Reshape for kneighbors input\n",
    "\n",
    "# Get the nearest neighbors\n",
    "distances, indices = model.kneighbors(student_row, n_neighbors=5)\n",
    "\n",
    "# Get the top 5 recommended courses\n",
    "recommended_course_indices = indices[0]\n",
    "recommended_courses = user_item_matrix.columns[recommended_course_indices]\n",
    "\n",
    "# Display the recommended courses\n",
    "print(\"Top 5 Recommended Courses for Student ID\", student_id, \":\", recommended_courses)\n"
   ]
  }
 ],
 "metadata": {
  "kernelspec": {
   "display_name": "Python 3",
   "language": "python",
   "name": "python3"
  },
  "language_info": {
   "codemirror_mode": {
    "name": "ipython",
    "version": 3
   },
   "file_extension": ".py",
   "mimetype": "text/x-python",
   "name": "python",
   "nbconvert_exporter": "python",
   "pygments_lexer": "ipython3",
   "version": "3.12.6"
  }
 },
 "nbformat": 4,
 "nbformat_minor": 2
}
