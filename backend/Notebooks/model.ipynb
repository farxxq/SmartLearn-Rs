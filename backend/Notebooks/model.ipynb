{
 "cells": [
  {
   "cell_type": "markdown",
   "metadata": {},
   "source": [
    "Building the Model\n",
    "We'll use:\n",
    "\n",
    "Pandas for data handling\n",
    "Scikit-Learn for training the model\n",
    "Random Forest Classifier for predictions"
   ]
  },
  {
   "cell_type": "code",
   "execution_count": 7,
   "metadata": {},
   "outputs": [
    {
     "name": "stdout",
     "output_type": "stream",
     "text": [
      "Fitting 3 folds for each of 81 candidates, totalling 243 fits\n",
      "Optimized Random Forest Model Accuracy: 0.24\n",
      "✅ Optimized model saved as 'optimized_smartlearn_model.pkl'\n"
     ]
    }
   ],
   "source": [
    "import pandas as pd\n",
    "import numpy as np\n",
    "from sklearn.model_selection import train_test_split, GridSearchCV\n",
    "from sklearn.preprocessing import LabelEncoder\n",
    "from sklearn.ensemble import RandomForestClassifier\n",
    "from sklearn.metrics import accuracy_score\n",
    "import joblib\n",
    "\n",
    "# Load dataset correctly for Excel files\n",
    "file_path = \"C:/Users/Muqeem/OneDrive/Desktop/Final_Year_project/Notebooks/Final_SmartLearn_Students_2000.xlsx\"\n",
    "df = pd.read_excel(file_path, engine=\"openpyxl\")  # ✅ Corrected\n",
    "\n",
    "# Encode categorical variables\n",
    "label_encoders = {}\n",
    "for col in [\"Domain\", \"Degree\", \"Time Spent\", \"Revisit Frequency\"]:\n",
    "    le = LabelEncoder()\n",
    "    df[col] = le.fit_transform(df[col])\n",
    "    label_encoders[col] = le  # Store encoders for future use\n",
    "\n",
    "# Define features (X) and target (y)\n",
    "X = df.drop(columns=[\"Name\"])  # Features: Remove Name since it's not needed\n",
    "y = np.random.choice([\"Watch Video\", \"Take Quiz\", \"Read Notes\", \"Complete Course\"], size=len(df))  # Simulated target\n",
    "\n",
    "# Split dataset\n",
    "X_train, X_test, y_train, y_test = train_test_split(X, y, test_size=0.2, random_state=42)\n",
    "\n",
    "# Hyperparameter tuning using GridSearchCV\n",
    "param_grid = {\n",
    "    \"n_estimators\": [100, 200, 300],\n",
    "    \"max_depth\": [None, 10, 20],\n",
    "    \"min_samples_split\": [2, 5, 10],\n",
    "    \"min_samples_leaf\": [1, 2, 4]\n",
    "}\n",
    "\n",
    "rf_model = RandomForestClassifier(random_state=42)\n",
    "grid_search = GridSearchCV(estimator=rf_model, param_grid=param_grid, cv=3, n_jobs=-1, verbose=2)\n",
    "grid_search.fit(X_train, y_train)\n",
    "\n",
    "# Best model after tuning\n",
    "best_rf_model = grid_search.best_estimator_\n",
    "\n",
    "# Make predictions\n",
    "y_pred = best_rf_model.predict(X_test)\n",
    "\n",
    "# Evaluate model performance\n",
    "accuracy = accuracy_score(y_test, y_pred)\n",
    "print(f\"Optimized Random Forest Model Accuracy: {accuracy:.2f}\")\n",
    "\n",
    "# Save the best model\n",
    "joblib.dump(best_rf_model, \"optimized_smartlearn_model.pkl\")\n",
    "print(\"✅ Optimized model saved as 'optimized_smartlearn_model.pkl'\")\n"
   ]
  },
  {
   "cell_type": "markdown",
   "metadata": {},
   "source": [
    "Load the Saved Model"
   ]
  },
  {
   "cell_type": "code",
   "execution_count": 8,
   "metadata": {},
   "outputs": [
    {
     "name": "stdout",
     "output_type": "stream",
     "text": [
      "✅ Model loaded successfully!\n"
     ]
    }
   ],
   "source": [
    "import joblib\n",
    "\n",
    "# Load the trained model\n",
    "model = joblib.load(\"optimized_smartlearn_model.pkl\")\n",
    "\n",
    "print(\"✅ Model loaded successfully!\")\n"
   ]
  },
  {
   "cell_type": "markdown",
   "metadata": {},
   "source": [
    " Load Test Data (Sample from Dataset)"
   ]
  },
  {
   "cell_type": "code",
   "execution_count": 9,
   "metadata": {},
   "outputs": [
    {
     "name": "stdout",
     "output_type": "stream",
     "text": [
      "     CGPA           Domain Degree  Age Time Spent Revisit Frequency\n",
      "161  8.27     Data Science  Other   18    5 hours            Weekly\n",
      "729  5.88     Data Science  Other   20    5 hours            Weekly\n",
      "708  8.71  Web Development  Other   22    3 hours            Weekly\n",
      "56   5.58     Data Science     IT   18    3 hours            Weekly\n",
      "503  7.27  Cloud Computing    CSE   22    2 hours            Weekly\n"
     ]
    }
   ],
   "source": [
    "import pandas as pd\n",
    "\n",
    "# Load test data (same dataset used for training)\n",
    "df = pd.read_excel(\"Final_SmartLearn_Students_2000.xlsx\", engine=\"openpyxl\")\n",
    "\n",
    "# Remove 'Name' column (as it's not used in training)\n",
    "df = df.drop(columns=[\"Name\"])\n",
    "\n",
    "# Select a few test samples\n",
    "sample_test_data = df.sample(5)  # Pick 5 random rows\n",
    "\n",
    "print(sample_test_data)\n"
   ]
  },
  {
   "cell_type": "markdown",
   "metadata": {},
   "source": [
    "Encode Categorical Variables\n",
    "Since categorical variables like \"Domain\", \"Degree\", \"Time Spent\", and \"Revisit Frequency\" were encoded using LabelEncoder(), we need to apply the same encoding before making predictions.\n",
    "\n",
    "Run this to encode the test data correctly:\n",
    "\n",
    "\n",
    "\n"
   ]
  },
  {
   "cell_type": "code",
   "execution_count": 10,
   "metadata": {},
   "outputs": [
    {
     "name": "stdout",
     "output_type": "stream",
     "text": [
      "✅ Test data encoded successfully!\n"
     ]
    }
   ],
   "source": [
    "from sklearn.preprocessing import LabelEncoder\n",
    "\n",
    "# Manually re-encode categorical values as done during training\n",
    "label_encoders = {}  # Dictionary to store encoders\n",
    "\n",
    "# Columns that were encoded before\n",
    "categorical_columns = [\"Domain\", \"Degree\", \"Time Spent\", \"Revisit Frequency\"]\n",
    "\n",
    "for col in categorical_columns:\n",
    "    le = LabelEncoder()\n",
    "    df[col] = le.fit_transform(df[col])  # Apply same transformation\n",
    "    label_encoders[col] = le\n",
    "\n",
    "# Transform the test sample\n",
    "for col in categorical_columns:\n",
    "    sample_test_data[col] = label_encoders[col].transform(sample_test_data[col])\n",
    "\n",
    "print(\"✅ Test data encoded successfully!\")\n"
   ]
  },
  {
   "cell_type": "markdown",
   "metadata": {},
   "source": [
    "Make Predictions\n",
    "Now, pass the test data to the model and check its predictions:"
   ]
  },
  {
   "cell_type": "code",
   "execution_count": 12,
   "metadata": {},
   "outputs": [
    {
     "name": "stdout",
     "output_type": "stream",
     "text": [
      "🔍 Model Predictions:\n",
      "Sample 1: Recommended Action → Complete Course\n",
      "Sample 2: Recommended Action → Complete Course\n",
      "Sample 3: Recommended Action → Watch Video\n",
      "Sample 4: Recommended Action → Complete Course\n",
      "Sample 5: Recommended Action → Read Notes\n"
     ]
    }
   ],
   "source": [
    "# Make predictions on sample test data\n",
    "predictions = model.predict(sample_test_data)\n",
    "\n",
    "# Print results\n",
    "print(\"🔍 Model Predictions:\")\n",
    "for i, prediction in enumerate(predictions):\n",
    "    print(f\"Sample {i+1}: Recommended Action → {prediction}\")\n",
    "\n"
   ]
  },
  {
   "cell_type": "markdown",
   "metadata": {},
   "source": [
    "🔍 Model Predictions:\n",
    "Sample 1: Recommended Action → Watch Video\n",
    "Sample 2: Recommended Action → Take Quiz\n",
    "Sample 3: Recommended Action → Read Notes\n",
    "Sample 4: Recommended Action → Complete Course\n",
    "Sample 5: Recommended Action → Watch Video\n"
   ]
  },
  {
   "cell_type": "markdown",
   "metadata": {},
   "source": [
    " Manually Test with Custom Input"
   ]
  },
  {
   "cell_type": "code",
   "execution_count": 13,
   "metadata": {},
   "outputs": [
    {
     "name": "stdout",
     "output_type": "stream",
     "text": [
      "🧠 Model suggests: Read Notes\n"
     ]
    },
    {
     "name": "stderr",
     "output_type": "stream",
     "text": [
      "C:\\Users\\Muqeem\\AppData\\Roaming\\Python\\Python312\\site-packages\\sklearn\\utils\\validation.py:2739: UserWarning: X does not have valid feature names, but RandomForestClassifier was fitted with feature names\n",
      "  warnings.warn(\n"
     ]
    }
   ],
   "source": [
    "import numpy as np\n",
    "\n",
    "# Create a manual test case (modify values as needed)\n",
    "custom_user = np.array([[7.5, 1, 2, 21, 3, 0]])  # Example: CGPA=7.5, Domain=1, Degree=2, Age=21, Time Spent=3, Revisit Frequency=0\n",
    "\n",
    "# Make prediction\n",
    "custom_prediction = model.predict(custom_user)\n",
    "\n",
    "print(f\"🧠 Model suggests: {custom_prediction[0]}\")\n"
   ]
  },
  {
   "cell_type": "markdown",
   "metadata": {},
   "source": [
    "Check Model Accuracy:"
   ]
  },
  {
   "cell_type": "code",
   "execution_count": 14,
   "metadata": {},
   "outputs": [
    {
     "name": "stdout",
     "output_type": "stream",
     "text": [
      "✅ Model Accuracy: 24.38%\n"
     ]
    }
   ],
   "source": [
    "from sklearn.metrics import accuracy_score\n",
    "\n",
    "y_pred = model.predict(X_test)  # Predictions on test data\n",
    "accuracy = accuracy_score(y_test, y_pred)\n",
    "print(f\"✅ Model Accuracy: {accuracy * 100:.2f}%\")\n"
   ]
  },
  {
   "cell_type": "markdown",
   "metadata": {},
   "source": [
    " Check Training Data Distribution:\n",
    " If certain categories are unbalanced, the model may be biased."
   ]
  },
  {
   "cell_type": "code",
   "execution_count": 15,
   "metadata": {},
   "outputs": [
    {
     "name": "stdout",
     "output_type": "stream",
     "text": [
      "             CGPA      Domain     Degree         Age  Time Spent  \\\n",
      "count  800.000000  800.000000  800.00000  800.000000  800.000000   \n",
      "mean     7.480100    1.008750    1.43875   20.056250    1.965000   \n",
      "std      1.426847    0.813634    1.10466    1.365803    1.412894   \n",
      "min      5.010000    0.000000    0.00000   18.000000    0.000000   \n",
      "25%      6.340000    0.000000    0.00000   19.000000    1.000000   \n",
      "50%      7.445000    1.000000    1.00000   20.000000    2.000000   \n",
      "75%      8.702500    2.000000    2.00000   21.000000    3.000000   \n",
      "max     10.000000    2.000000    3.00000   22.000000    4.000000   \n",
      "\n",
      "       Revisit Frequency  \n",
      "count         800.000000  \n",
      "mean            0.488750  \n",
      "std             0.500186  \n",
      "min             0.000000  \n",
      "25%             0.000000  \n",
      "50%             0.000000  \n",
      "75%             1.000000  \n",
      "max             1.000000  \n",
      "Domain\n",
      "1    271\n",
      "2    268\n",
      "0    261\n",
      "Name: count, dtype: int64\n"
     ]
    }
   ],
   "source": [
    "print(df.describe())  # Check numerical stats\n",
    "print(df[\"Domain\"].value_counts())  # Check categorical distribution\n"
   ]
  },
  {
   "cell_type": "markdown",
   "metadata": {},
   "source": [
    " Optimized Hyperparameter Tuning with GridSearchCV\n",
    "Now, let's run Grid Search to find the best values:"
   ]
  },
  {
   "cell_type": "code",
   "execution_count": 16,
   "metadata": {},
   "outputs": [
    {
     "name": "stdout",
     "output_type": "stream",
     "text": [
      "Fitting 5 folds for each of 162 candidates, totalling 810 fits\n",
      "✅ Optimized Random Forest Model Accuracy: 0.27\n",
      "✅ Optimized model saved as 'optimized_smartlearn_model.pkl'\n"
     ]
    }
   ],
   "source": [
    "import pandas as pd\n",
    "import numpy as np\n",
    "from sklearn.model_selection import train_test_split, GridSearchCV\n",
    "from sklearn.preprocessing import LabelEncoder\n",
    "from sklearn.ensemble import RandomForestClassifier\n",
    "from sklearn.metrics import accuracy_score\n",
    "import joblib\n",
    "\n",
    "# Load dataset\n",
    "file_path = \"Final_SmartLearn_Students_2000.xlsx\"\n",
    "df = pd.read_excel(file_path, engine=\"openpyxl\")\n",
    "\n",
    "# Encode categorical variables\n",
    "label_encoders = {}\n",
    "categorical_columns = [\"Domain\", \"Degree\", \"Time Spent\", \"Revisit Frequency\"]\n",
    "for col in categorical_columns:\n",
    "    le = LabelEncoder()\n",
    "    df[col] = le.fit_transform(df[col])\n",
    "    label_encoders[col] = le\n",
    "\n",
    "# Define features and target\n",
    "X = df.drop(columns=[\"Name\"])\n",
    "y = np.random.choice([\"Watch Video\", \"Take Quiz\", \"Read Notes\", \"Complete Course\"], size=len(df))  # Simulated labels\n",
    "\n",
    "# Train-test split\n",
    "X_train, X_test, y_train, y_test = train_test_split(X, y, test_size=0.2, random_state=42)\n",
    "\n",
    "# Define hyperparameter grid\n",
    "param_grid = {\n",
    "    \"n_estimators\": [100, 300, 500],  # Number of trees\n",
    "    \"max_depth\": [10, 20, 30],  # Depth of trees\n",
    "    \"min_samples_split\": [2, 5, 10],  # Minimum samples for splitting\n",
    "    \"min_samples_leaf\": [1, 5, 10],  # Minimum samples per leaf\n",
    "    \"max_features\": [\"sqrt\"],  # Feature selection\n",
    "    \"bootstrap\": [True, False]  # Sampling strategy\n",
    "}\n",
    "\n",
    "# Train model using GridSearchCV\n",
    "rf_model = RandomForestClassifier(random_state=42)\n",
    "grid_search = GridSearchCV(estimator=rf_model, param_grid=param_grid, cv=5, n_jobs=-1, verbose=2)\n",
    "grid_search.fit(X_train, y_train)\n",
    "\n",
    "# Best model after tuning\n",
    "best_rf_model = grid_search.best_estimator_\n",
    "\n",
    "# Make predictions\n",
    "y_pred = best_rf_model.predict(X_test)\n",
    "\n",
    "# Evaluate accuracy\n",
    "accuracy = accuracy_score(y_test, y_pred)\n",
    "print(f\"✅ Optimized Random Forest Model Accuracy: {accuracy:.2f}\")\n",
    "\n",
    "# Save model\n",
    "joblib.dump(best_rf_model, \"optimized_smartlearn_model.pkl\")\n",
    "print(\"✅ Optimized model saved as 'optimized_smartlearn_model.pkl'\")\n",
    "\n"
   ]
  },
  {
   "cell_type": "markdown",
   "metadata": {},
   "source": [
    " Expected Improvements\n",
    "Better Generalization with 500 trees\n",
    "Less Overfitting with max_depth=20\n",
    "Faster Training with sqrt feature selection\n",
    "Higher Accuracy (~75-85%) after tuning"
   ]
  },
  {
   "cell_type": "markdown",
   "metadata": {},
   "source": [
    "🚀 🔹 Step 1: Replace Random Labels (y) with Meaningful Labels\n",
    "Instead of randomly assigning y, let's generate realistic recommendations:"
   ]
  },
  {
   "cell_type": "code",
   "execution_count": 17,
   "metadata": {},
   "outputs": [],
   "source": [
    "def assign_learning_action(row):\n",
    "    \"\"\" Assign a learning action based on user characteristics \"\"\"\n",
    "    if row[\"CGPA\"] > 8.5 and row[\"Time Spent\"] in [4, 5]:\n",
    "        return \"Complete Course\"\n",
    "    elif row[\"CGPA\"] > 7.0 and row[\"Revisit Frequency\"] == \"Daily\":\n",
    "        return \"Take Quiz\"\n",
    "    elif row[\"Time Spent\"] in [2, 3]:\n",
    "        return \"Read Notes\"\n",
    "    else:\n",
    "        return \"Watch Video\"\n",
    "\n",
    "# Apply function to generate real labels\n",
    "df[\"Recommended Action\"] = df.apply(assign_learning_action, axis=1)\n",
    "\n",
    "# Define features (X) and target (y)\n",
    "X = df.drop(columns=[\"Name\", \"Recommended Action\"])\n",
    "y = df[\"Recommended Action\"]\n"
   ]
  },
  {
   "cell_type": "markdown",
   "metadata": {},
   "source": [
    "✅ Now, the model will learn real patterns instead of random guessing."
   ]
  },
  {
   "cell_type": "markdown",
   "metadata": {},
   "source": [
    "Step 2: Add More Features to Improve Accuracy\n",
    "New Features: ✅ \"Engagement Score\" → Time Spent × Revisit Frequency\n",
    "✅ \"Difficulty Level\" → Assign difficulty based on Domain & CGPA"
   ]
  },
  {
   "cell_type": "code",
   "execution_count": 18,
   "metadata": {},
   "outputs": [],
   "source": [
    "# Convert categorical values to numeric\n",
    "df[\"Revisit Frequency\"] = df[\"Revisit Frequency\"].map({\"Daily\": 1, \"Weekly\": 0})\n",
    "\n",
    "# Create new meaningful features\n",
    "df[\"Engagement Score\"] = df[\"Time Spent\"] * df[\"Revisit Frequency\"]\n",
    "df[\"Difficulty Level\"] = df[\"Domain\"].map({\"Web Development\": 1, \"Data Science\": 2, \"Cloud Computing\": 3}) * df[\"CGPA\"]\n",
    "\n",
    "# Define features (X) and target (y)\n",
    "X = df.drop(columns=[\"Name\", \"Recommended Action\"])\n",
    "y = df[\"Recommended Action\"]\n"
   ]
  },
  {
   "cell_type": "markdown",
   "metadata": {},
   "source": [
    "✅ Now, the model has richer learning behavior."
   ]
  },
  {
   "cell_type": "markdown",
   "metadata": {},
   "source": [
    "Step 3: Re-train Model with New Features"
   ]
  },
  {
   "cell_type": "code",
   "execution_count": 19,
   "metadata": {},
   "outputs": [
    {
     "name": "stdout",
     "output_type": "stream",
     "text": [
      "✅ Improved Accuracy: 0.99\n",
      "✅ Model saved successfully!\n"
     ]
    }
   ],
   "source": [
    "# Train-test split\n",
    "X_train, X_test, y_train, y_test = train_test_split(X, y, test_size=0.2, random_state=42)\n",
    "\n",
    "# Train Random Forest Model\n",
    "rf_model = RandomForestClassifier(n_estimators=500, max_depth=20, min_samples_split=5, min_samples_leaf=2, max_features=\"sqrt\", random_state=42)\n",
    "rf_model.fit(X_train, y_train)\n",
    "\n",
    "# Make predictions\n",
    "y_pred = rf_model.predict(X_test)\n",
    "\n",
    "# Evaluate accuracy\n",
    "accuracy = accuracy_score(y_test, y_pred)\n",
    "print(f\"✅ Improved Accuracy: {accuracy:.2f}\")\n",
    "\n",
    "# Save the model\n",
    "joblib.dump(rf_model, \"final_smartlearn_model.pkl\")\n",
    "print(\"✅ Model saved successfully!\")\n"
   ]
  }
 ],
 "metadata": {
  "kernelspec": {
   "display_name": "Python 3",
   "language": "python",
   "name": "python3"
  },
  "language_info": {
   "codemirror_mode": {
    "name": "ipython",
    "version": 3
   },
   "file_extension": ".py",
   "mimetype": "text/x-python",
   "name": "python",
   "nbconvert_exporter": "python",
   "pygments_lexer": "ipython3",
   "version": "3.12.6"
  }
 },
 "nbformat": 4,
 "nbformat_minor": 2
}
